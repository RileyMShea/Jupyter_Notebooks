{
 "cells": [
  {
   "cell_type": "markdown",
   "metadata": {},
   "source": [
    "# Data Camp Beatiful Soup tutorial - Spirelogs\n",
    "\n",
    " [Tutorial Link](https://www.datacamp.com/community/tutorials/web-scraping-using-python)"
   ]
  },
  {
   "cell_type": "code",
   "execution_count": 1,
   "metadata": {
    "collapsed": true
   },
   "outputs": [],
   "source": [
    "import lxml"
   ]
  },
  {
   "cell_type": "code",
   "execution_count": 2,
   "metadata": {
    "collapsed": true
   },
   "outputs": [],
   "source": [
    "import pandas as pd\n",
    "import numpy as np\n",
    "import matplotlib.pyplot as plt\n",
    "import seaborn as sns\n",
    "%matplotlib inline"
   ]
  },
  {
   "cell_type": "code",
   "execution_count": 3,
   "metadata": {
    "collapsed": false
   },
   "outputs": [],
   "source": [
    "#to open urls\n",
    "from urllib import urlopen\n",
    "#beautiful soup\n",
    "from bs4 import BeautifulSoup"
   ]
  },
  {
   "cell_type": "code",
   "execution_count": 4,
   "metadata": {
    "collapsed": false
   },
   "outputs": [],
   "source": [
    "url = \"https://spirelogs.com/\"\n",
    "html = urlopen(url)"
   ]
  },
  {
   "cell_type": "code",
   "execution_count": 5,
   "metadata": {
    "collapsed": false
   },
   "outputs": [
    {
     "data": {
      "text/plain": [
       "bs4.BeautifulSoup"
      ]
     },
     "execution_count": 5,
     "metadata": {},
     "output_type": "execute_result"
    }
   ],
   "source": [
    "#Create a soup object from the webpage\n",
    "soup = BeautifulSoup(html, 'lxml')\n",
    "type(soup)"
   ]
  },
  {
   "cell_type": "code",
   "execution_count": 6,
   "metadata": {
    "collapsed": false
   },
   "outputs": [
    {
     "name": "stdout",
     "output_type": "stream",
     "text": [
      "<title>Slay The Spire Statistics | spirelogs.com</title>\n"
     ]
    }
   ],
   "source": [
    "# Get the title\n",
    "title = soup.title\n",
    "print(title)"
   ]
  },
  {
   "cell_type": "code",
   "execution_count": 7,
   "metadata": {
    "collapsed": false
   },
   "outputs": [
    {
     "name": "stdout",
     "output_type": "stream",
     "text": [
      "\n",
      "\n",
      "\n",
      "\n",
      "\n",
      "\n",
      "\n",
      "\r\n",
      "  window.dataLayer = window.dataLayer || [];\r\n",
      "  function gtag(){dataLayer.push(arguments);}\r\n",
      "  gtag('js', new Date());\r\n",
      "\r\n",
      "  gtag('config', 'UA-37768696-2');\r\n",
      "\n",
      "Slay The Spire Statistics | spirelogs.com\n",
      "\n",
      "\n",
      "\n",
      "\n",
      "\n",
      "\n",
      "\n",
      "\n",
      "\n",
      "\n",
      "\n",
      "\n",
      "\n",
      "\n",
      "\n",
      "\n",
      "\n",
      "\n",
      "\n",
      "\n",
      "\n",
      "Browse data by class: \n",
      "IroncladCard Tier ListDeadliest EncountersCard PopularityCard WinratesMost Upgraded CardsBoss RelicsNon-Boss RelicsNeow's Blessing ChoicesPurchased ItemsSilentCard Tier ListDeadliest EncountersCard PopularityCard WinratesMost Upgraded CardsBoss RelicsNon-Boss RelicsNeow's Blessing ChoicesPurchased ItemsDefectCard Tier ListDeadliest EncountersCard PopularityCard WinratesMost Upgraded CardsBoss RelicsNon-Boss RelicsNeow's Blessing ChoicesPurchased ItemsGeneralNeutral Card ListEvent FrequencyEvent ChoicesPurchased ItemsNeow's Blessing ChoicesMiscellaneous Statistics\n",
      "\n",
      "Upload your runs!\n",
      "\n",
      "\n",
      "\n",
      "\n",
      "Spirelogs.com: Slay The Spire Statistics \n",
      "2018-10-16:\r\n",
      "\t\t\tAdded Ascension 20 statistics to some pages; the rest are coming in the future. Details\n",
      "\n",
      "\n",
      "\n",
      "\n",
      "\n",
      "\r\n",
      "\t\t\t\t    google_ad_client = \"ca-pub-8087799964152544\";\r\n",
      "\t\t\t\t    google_ad_slot = \"5159994393\";\r\n",
      "\t\t\t\t    google_ad_width = 970;\r\n",
      "\t\t\t\t    google_ad_height = 90;\r\n",
      "\t\t\t\t\n",
      "\n",
      "\n",
      "\n",
      "\n",
      "This banner is a way to support Spirelogs without costing you anything directly. If you enjoy the site and find it helpful, please whitelist spirelogs.com in your Adblock or donate via Paypal or Patreon.If your Adblock is off and you're still seeing this - I have no idea what Google is doing and why there is no ad on this page, but thanks!\n",
      "\n",
      "\n",
      "\n",
      "\n",
      "\n",
      "\n",
      "Log In\n",
      "\n",
      "\n",
      "\n",
      "Username: \n",
      "Password: \n",
      " or Create an Account\n",
      "\n",
      "\n",
      "\n",
      "Creating an account will let you track and analyze your individual stats and see how you compare to everyone else. You can opt to keep your profile private. (See a Sample Profile)\n",
      "Forgot your password?\n",
      "\n",
      "\n",
      "\n",
      "\n",
      "Upload Your Runs\n",
      "\r\n",
      "\t\t\tUploading as Anonymous \n",
      "\n",
      "\n",
      "\n",
      "\n",
      "\n",
      "Upload up to 100 files at a time (because dragging hundreds of files here will just freeze your browser)\n",
      "\n",
      "\n",
      "\n",
      "\n",
      "\n",
      "\r\n",
      "\t\t\tWhere do I find my run files?\r\n",
      "\t\t\n",
      "\n",
      "\r\n",
      "\t\t\tFrequently Asked Questions\r\n",
      "\t\t\n",
      "\n",
      "\r\n",
      "\t\t\tLatest Changes\r\n",
      "\t\t\n",
      "\n",
      "\n",
      "\n",
      "\n",
      "Latest Uploads\n",
      "\n",
      "silentA20VictoryAnonymous on 2018-10-23 13:13:43silentDefeated on Floor 50 by Time Eaterdogw on 2018-10-23 11:58:27silentDefeated on Floor 21 by Centurion and Healerdogw on 2018-10-23 11:58:27silentDefeated on Floor 24 by Gremlin Leaderdogw on 2018-10-23 11:58:26silentDefeated on Floor 33 by Automatondogw on 2018-10-23 11:58:26silentA2Defeated on Floor 33 by Collectordogw on 2018-10-23 11:58:25silentDefeated on Floor 13 by Lagavulindogw on 2018-10-23 11:58:25silentA2Defeated on Floor 31 by Sneckodogw on 2018-10-23 11:58:25silentA1Defeated on Floor 29 by Slaver and Parasitedogw on 2018-10-23 11:58:24silentDefeated on Floor 23 by Slaversdogw on 2018-10-23 11:58:24 \n",
      "Most Runs Uploaded\n",
      "\n",
      "UsernameIroncladSilentDefectTotaldogw32737581945kokoriki19534304857forute_egusa42429337754ihm1121221227277725FadingEclipse369175168712duder253253166672Stiney252187229668mackoz196262202660Rainomi161179320660Zynyste261928649monkusan4941557647smb718287207147641chubby155219264638SteinFanXL9598036634aguni00630630 (Top 15 users with public profiles are listed)\n",
      "\n",
      "\n",
      "\n",
      "Data at a Glance\n",
      "\n",
      "\n",
      "Ironclad\n",
      "Total Runs Recorded:248233791592671813Metric (victories only)A0A1-14A15-19A20Total Victories470167931898265Winrate18.73%17.75%20.28%14.62%Average Score772102513692001Cards in Deck26.828.629.630.8Cards Removed at Merchant2.071.981.811.92Relics1416.215.216.1Elites Defeated3.45.14.95.3Regular Monsters Defeated16.915.515.514.8Campfires Visited8.88.79.39.3Rests at Campfires2.12.62.62.4 More Ironclad Statistics\n",
      "\n",
      "Silent\n",
      "Total Runs Recorded:1576133970118871599Metric (victories only)A0A1-14A15-19A20Total Victories325570582830226Winrate20.44%20.58%23.63%14.13%Average Score758101913591980Cards in Deck30.531.43233.8Cards Removed at Merchant1.891.821.711.71Relics14.216.11515.3Elites Defeated3.554.94.7Regular Monsters Defeated16.815.315.214.8Campfires Visited8.98.89.49.6Rests at Campfires2.73.33.33.4\n",
      "More Silent Statistics\n",
      "\n",
      "Defect\n",
      "Total Runs Recorded:1906344444101811688Metric (victories only)A0A1-14A15-19A20Total Victories381387212455238Winrate19.77%19.41%23.81%14.04%Average Score751100013511973Cards in Deck29.730.23232.2Cards Removed at Merchant1.821.851.611.71Relics13.815.514.715.5Elites Defeated3.24.64.54.6Regular Monsters Defeated17.115.615.415.4Campfires Visited9.19.19.69.5Rests at Campfires2.73.23.23.2\n",
      "More Defect Statistics\n",
      "Detailed Statistics\n",
      "\n",
      "IroncladCard Tier ListDeadliest EncountersCard PopularityCard WinratesMost Upgraded CardsBoss RelicsNon-Boss RelicsNeow's Blessing ChoicesPurchased ItemsSilentCard Tier ListDeadliest EncountersCard PopularityCard WinratesMost Upgraded CardsBoss RelicsNon-Boss RelicsNeow's Blessing ChoicesPurchased ItemsDefectCard Tier ListDeadliest EncountersCard PopularityCard WinratesMost Upgraded CardsBoss RelicsNon-Boss RelicsNeow's Blessing ChoicesPurchased Items\n",
      "\n",
      "\n",
      "\r\n",
      "    Dropzone.autoDiscover = false;\r\n",
      "\r\n",
      "    $('#dropzone').dropzone({\r\n",
      "        acceptedFiles: \".run\",\r\n",
      "\t    url: 'multiupload.php',\r\n",
      "\t    maxFiles: 100, // Number of files at a time\r\n",
      "\t    maxFilesize: 0.05,\r\n",
      "\t    parallelUploads: 1,\r\n",
      "         init: function () {\r\n",
      "             this.on(\"success\", function (file, response) {\r\n",
      "             \tresponse = JSON.parse(response);\r\n",
      "             \tresult = 'File <span class=\"white-text\">' + file.name + '</span> uploaded -> ' + response + '<br>';\r\n",
      "             \t$('#upload-log').append(result);\r\n",
      "\t\t\t//\t$.ajax({ url: 'multiupload.php?file=' + file });\r\n",
      "             })\r\n",
      "         }\r\n",
      "    });\r\n",
      "\n",
      "\n",
      "\n",
      "\n",
      "\n",
      "\n",
      "\n",
      "\r\n",
      "\t\t(adsbygoogle = window.adsbygoogle || []).push({});\r\n",
      "\t\t\n",
      "\n",
      "This banner is a way to support Spirelogs without costing you anything directly. If you enjoy the site and find it helpful, please whitelist spirelogs.com in your Adblock or donate via Paypal or Patreon.\n",
      "\n",
      "\n",
      "\n",
      "\n",
      " Page Generated in 0.518s\n",
      "Spirelogs.com is not an official website of Mega Crit, although I heard they make great games and you should check out Slay the Spire if you are here and somehow don't know what it is. All in-game artwork is property of Mega Crit and is used with persmission. \n",
      "Created by /u/Alleji • alleji@spirelogs.com\n",
      "\n",
      "\n",
      "\n",
      " \n",
      "If you enjoy using Spire Logs and would like to support its existence, please consider donating. The donations will go towards server costs first and anything in excess will likely be spent on board games and beer to keep me motivated!\n",
      "\n",
      "\n",
      "\n",
      "\n",
      "\n",
      "\n",
      "\n",
      "\n",
      "\n",
      "\n",
      "\n",
      "\n",
      "\n",
      "\n",
      "\n",
      "\n"
     ]
    }
   ],
   "source": [
    "# Print out the text\n",
    "text = soup.get_text()\n",
    "print(soup.text)"
   ]
  },
  {
   "cell_type": "code",
   "execution_count": 8,
   "metadata": {
    "collapsed": false
   },
   "outputs": [
    {
     "data": {
      "text/plain": [
       "[<a class=\"home-link inline-block mobile-hide\" href=\"/\"><span class=\"fas fa-home\"></span></a>,\n",
       " <a class=\"ironclad\" href=\"/stats/ironclad/\">Ironclad</a>,\n",
       " <a href=\"/stats/ironclad/tierlist.php\">Card Tier List</a>,\n",
       " <a href=\"/stats/ironclad/deadliest-encounters.php\">Deadliest Encounters</a>,\n",
       " <a href=\"/stats/ironclad/card-choices.php\">Card Popularity</a>,\n",
       " <a href=\"/stats/ironclad/card-winrate.php\">Card Winrates</a>,\n",
       " <a href=\"/stats/ironclad/card-upgrades.php\">Most Upgraded Cards</a>,\n",
       " <a href=\"/stats/ironclad/boss-relics.php\">Boss Relics</a>,\n",
       " <a href=\"/stats/ironclad/relics.php\">Non-Boss Relics</a>,\n",
       " <a href=\"/stats/ironclad/neow-choices.php\">Neow's Blessing Choices</a>,\n",
       " <a href=\"/stats/ironclad/shop-items.php\">Purchased Items</a>,\n",
       " <a class=\"silent\" href=\"/stats/silent/\">Silent</a>,\n",
       " <a href=\"/stats/silent/tierlist.php\">Card Tier List</a>,\n",
       " <a href=\"/stats/silent/deadliest-encounters.php\">Deadliest Encounters</a>,\n",
       " <a href=\"/stats/silent/card-choices.php\">Card Popularity</a>,\n",
       " <a href=\"/stats/silent/card-winrate.php\">Card Winrates</a>,\n",
       " <a href=\"/stats/silent/card-upgrades.php\">Most Upgraded Cards</a>,\n",
       " <a href=\"/stats/silent/boss-relics.php\">Boss Relics</a>,\n",
       " <a href=\"/stats/silent/relics.php\">Non-Boss Relics</a>,\n",
       " <a href=\"/stats/silent/neow-choices.php\">Neow's Blessing Choices</a>,\n",
       " <a href=\"/stats/silent/shop-items.php\">Purchased Items</a>,\n",
       " <a class=\"defect\" href=\"/stats/defect/\">Defect</a>,\n",
       " <a href=\"/stats/defect/tierlist.php\">Card Tier List</a>,\n",
       " <a href=\"/stats/defect/deadliest-encounters.php\">Deadliest Encounters</a>,\n",
       " <a href=\"/stats/defect/card-choices.php\">Card Popularity</a>,\n",
       " <a href=\"/stats/defect/card-winrate.php\">Card Winrates</a>,\n",
       " <a href=\"/stats/defect/card-upgrades.php\">Most Upgraded Cards</a>,\n",
       " <a href=\"/stats/defect/boss-relics.php\">Boss Relics</a>,\n",
       " <a href=\"/stats/defect/relics.php\">Non-Boss Relics</a>,\n",
       " <a href=\"/stats/defect/neow-choices.php\">Neow's Blessing Choices</a>,\n",
       " <a href=\"/stats/defect/shop-items.php\">Purchased Items</a>,\n",
       " <a class=\"general\" href=\"/stats/\">General</a>,\n",
       " <a href=\"/stats/cardlist.php\">Neutral Card List</a>,\n",
       " <a href=\"/stats/event-frequency.php\">Event Frequency</a>,\n",
       " <a href=\"/stats/event-choices.php\">Event Choices</a>,\n",
       " <a href=\"/stats/shop-items.php\">Purchased Items</a>,\n",
       " <a href=\"/stats/neow-choices.php\">Neow's Blessing Choices</a>,\n",
       " <a href=\"/stats/\">Miscellaneous Statistics</a>,\n",
       " <a class=\"right profile-link\" href=\"/pages/profile.php\"><span class=\"fas fa-user-circle\"></span></a>,\n",
       " <a href=\"/\" style=\"text-decoration: none;\">Upload your runs!</a>,\n",
       " <a href=\"/\" style=\"text-decoration: none;\">Spirelogs.com: Slay The Spire Statistics</a>,\n",
       " <a href=\"https://spirelogs.com/pages/notes.php\">Details</a>,\n",
       " <a href=\"pages/register.php\">Create an Account</a>,\n",
       " <a class=\"no-underline\" href=\"/pages/profile.php?user=Alleji\">Sample Profile</a>,\n",
       " <a class=\"fade no-underline\" href=\"pages/reset-password.php\">Forgot your password?</a>,\n",
       " <a class=\"button no-underline block greyblock-3 mobile-hide\" href=\"/pages/uploadhelp.php\">\\n<span class=\"fas fa-question-circle inline-block\" style=\"float: right; font-size: 1.5em; margin-bottom: -0.15em; margin-right: 10px;\"></span>\\r\\n\\t\\t\\tWhere do I find my run files?\\r\\n\\t\\t</a>,\n",
       " <a class=\"button no-underline block greyblock-3\" href=\"/pages/faq.php\">\\n<span class=\"fas fa-book-open inline-block\" style=\"float: right; font-size: 1.5em; margin-bottom: -0.15em; margin-right: 10px;\"></span>\\r\\n\\t\\t\\tFrequently Asked Questions\\r\\n\\t\\t</a>,\n",
       " <a class=\"button no-underline block greyblock-3\" href=\"/pages/notes.php\">\\n<span class=\"fas fa-list inline-block\" style=\"float: right; font-size: 1.5em; margin-bottom: -0.15em; margin-right: 10px;\"></span>\\r\\n\\t\\t\\tLatest Changes\\r\\n\\t\\t</a>,\n",
       " <a class=\"run ascension ascension-20\" href=\"/viewrun.php?run=395390\"><span class=\"character-class silent highlight silent-bg\">silent</span><span class=\"inline-block ascension ascension-20\">A20</span><span class=\"result victory green-text\">Victory</span><span class=\"right fade\"><i>Anonymous</i> on 2018-10-23 13:13:43</span></a>,\n",
       " <a class=\"run \" href=\"/viewrun.php?run=174795\"><span class=\"character-class silent highlight silent-bg\">silent</span><span class=\"result defeat red-text\">Defeated on Floor 50 by Time Eater</span><span class=\"right fade\"><i>dogw</i> on 2018-10-23 11:58:27</span></a>,\n",
       " <a class=\"run \" href=\"/viewrun.php?run=174794\"><span class=\"character-class silent highlight silent-bg\">silent</span><span class=\"result defeat red-text\">Defeated on Floor 21 by Centurion and Healer</span><span class=\"right fade\"><i>dogw</i> on 2018-10-23 11:58:27</span></a>,\n",
       " <a class=\"run \" href=\"/viewrun.php?run=174792\"><span class=\"character-class silent highlight silent-bg\">silent</span><span class=\"result defeat red-text\">Defeated on Floor 24 by Gremlin Leader</span><span class=\"right fade\"><i>dogw</i> on 2018-10-23 11:58:26</span></a>,\n",
       " <a class=\"run \" href=\"/viewrun.php?run=174793\"><span class=\"character-class silent highlight silent-bg\">silent</span><span class=\"result defeat red-text\">Defeated on Floor 33 by Automaton</span><span class=\"right fade\"><i>dogw</i> on 2018-10-23 11:58:26</span></a>,\n",
       " <a class=\"run ascension\" href=\"/viewrun.php?run=395389\"><span class=\"character-class silent highlight silent-bg\">silent</span><span class=\"inline-block ascension\">A2</span><span class=\"result defeat red-text\">Defeated on Floor 33 by Collector</span><span class=\"right fade\"><i>dogw</i> on 2018-10-23 11:58:25</span></a>,\n",
       " <a class=\"run \" href=\"/viewrun.php?run=174791\"><span class=\"character-class silent highlight silent-bg\">silent</span><span class=\"result defeat red-text\">Defeated on Floor 13 by Lagavulin</span><span class=\"right fade\"><i>dogw</i> on 2018-10-23 11:58:25</span></a>,\n",
       " <a class=\"run ascension\" href=\"/viewrun.php?run=395388\"><span class=\"character-class silent highlight silent-bg\">silent</span><span class=\"inline-block ascension\">A2</span><span class=\"result defeat red-text\">Defeated on Floor 31 by Snecko</span><span class=\"right fade\"><i>dogw</i> on 2018-10-23 11:58:25</span></a>,\n",
       " <a class=\"run ascension\" href=\"/viewrun.php?run=395386\"><span class=\"character-class silent highlight silent-bg\">silent</span><span class=\"inline-block ascension\">A1</span><span class=\"result defeat red-text\">Defeated on Floor 29 by Slaver and Parasite</span><span class=\"right fade\"><i>dogw</i> on 2018-10-23 11:58:24</span></a>,\n",
       " <a class=\"run \" href=\"/viewrun.php?run=395385\"><span class=\"character-class silent highlight silent-bg\">silent</span><span class=\"result defeat red-text\">Defeated on Floor 23 by Slavers</span><span class=\"right fade\"><i>dogw</i> on 2018-10-23 11:58:24</span></a>,\n",
       " <a href=\"/pages/profile.php?user=dogw\">dogw</a>,\n",
       " <a href=\"/pages/profile.php?user=kokoriki\">kokoriki</a>,\n",
       " <a href=\"/pages/profile.php?user=forute_egusa\">forute_egusa</a>,\n",
       " <a href=\"/pages/profile.php?user=ihm1121\">ihm1121</a>,\n",
       " <a href=\"/pages/profile.php?user=FadingEclipse\">FadingEclipse</a>,\n",
       " <a href=\"/pages/profile.php?user=duder\">duder</a>,\n",
       " <a href=\"/pages/profile.php?user=Stiney\">Stiney</a>,\n",
       " <a href=\"/pages/profile.php?user=mackoz\">mackoz</a>,\n",
       " <a href=\"/pages/profile.php?user=Rainomi\">Rainomi</a>,\n",
       " <a href=\"/pages/profile.php?user=Zynyste\">Zynyste</a>,\n",
       " <a href=\"/pages/profile.php?user=monkusan\">monkusan</a>,\n",
       " <a href=\"/pages/profile.php?user=smb718\">smb718</a>,\n",
       " <a href=\"/pages/profile.php?user=chubby\">chubby</a>,\n",
       " <a href=\"/pages/profile.php?user=SteinFanXL9\">SteinFanXL9</a>,\n",
       " <a href=\"/pages/profile.php?user=aguni\">aguni</a>,\n",
       " <a class=\"ironclad highlight\" href=\"/stats/ironclad/\" style=\"text-decoration: none;\">Ironclad</a>,\n",
       " <a class=\"align-center center fade\" href=\"/stats/ironclad/\">More Ironclad Statistics</a>,\n",
       " <a class=\"silent highlight\" href=\"/stats/silent/\" style=\"text-decoration: none;\">Silent</a>,\n",
       " <a class=\"align-center center fade\" href=\"/stats/silent/\">More Silent Statistics</a>,\n",
       " <a class=\" defect highlight\" href=\"/stats/defect/\" style=\"text-decoration: none;\">Defect</a>,\n",
       " <a class=\"align-center center fade\" href=\"/stats/defect/\">More Defect Statistics</a>,\n",
       " <a class=\"ironclad\" href=\"/stats/ironclad/\">Ironclad</a>,\n",
       " <a href=\"/stats/ironclad/tierlist.php\">Card Tier List</a>,\n",
       " <a href=\"/stats/ironclad/deadliest-encounters.php\">Deadliest Encounters</a>,\n",
       " <a href=\"/stats/ironclad/card-choices.php\">Card Popularity</a>,\n",
       " <a href=\"/stats/ironclad/card-winrate.php\">Card Winrates</a>,\n",
       " <a href=\"/stats/ironclad/card-upgrades.php\">Most Upgraded Cards</a>,\n",
       " <a href=\"/stats/ironclad/boss-relics.php\">Boss Relics</a>,\n",
       " <a href=\"/stats/ironclad/relics.php\">Non-Boss Relics</a>,\n",
       " <a href=\"/stats/ironclad/neow-choices.php\">Neow's Blessing Choices</a>,\n",
       " <a href=\"/stats/ironclad/shop-items.php\">Purchased Items</a>,\n",
       " <a class=\"silent\" href=\"/stats/silent/\">Silent</a>,\n",
       " <a href=\"/stats/silent/tierlist.php\">Card Tier List</a>,\n",
       " <a href=\"/stats/silent/deadliest-encounters.php\">Deadliest Encounters</a>,\n",
       " <a href=\"/stats/silent/card-choices.php\">Card Popularity</a>,\n",
       " <a href=\"/stats/silent/card-winrate.php\">Card Winrates</a>,\n",
       " <a href=\"/stats/silent/card-upgrades.php\">Most Upgraded Cards</a>,\n",
       " <a href=\"/stats/silent/boss-relics.php\">Boss Relics</a>,\n",
       " <a href=\"/stats/silent/relics.php\">Non-Boss Relics</a>,\n",
       " <a href=\"/stats/silent/neow-choices.php\">Neow's Blessing Choices</a>,\n",
       " <a href=\"/stats/silent/shop-items.php\">Purchased Items</a>,\n",
       " <a class=\"defect\" href=\"/stats/defect/\">Defect</a>,\n",
       " <a href=\"/stats/defect/tierlist.php\">Card Tier List</a>,\n",
       " <a href=\"/stats/defect/deadliest-encounters.php\">Deadliest Encounters</a>,\n",
       " <a href=\"/stats/defect/card-choices.php\">Card Popularity</a>,\n",
       " <a href=\"/stats/defect/card-winrate.php\">Card Winrates</a>,\n",
       " <a href=\"/stats/defect/card-upgrades.php\">Most Upgraded Cards</a>,\n",
       " <a href=\"/stats/defect/boss-relics.php\">Boss Relics</a>,\n",
       " <a href=\"/stats/defect/relics.php\">Non-Boss Relics</a>,\n",
       " <a href=\"/stats/defect/neow-choices.php\">Neow's Blessing Choices</a>,\n",
       " <a href=\"/stats/defect/shop-items.php\">Purchased Items</a>,\n",
       " <a href=\"https://store.steampowered.com/app/646570/Slay_the_Spire/\" target=\"_blank\">Slay the Spire</a>,\n",
       " <a href=\"https://www.reddit.com/user/Alleji/\" rel=\"nofollow\" target=\"_blank\">/u/Alleji</a>,\n",
       " <a href=\"https://www.patreon.com/alleji\" target=\"_blank\"><img alt=\"Donate via Patreon\" class=\"patreon-btn\" src=\"/static/img/patreon-grey.png\" title=\"Donate via Patreon\"/></a>]"
      ]
     },
     "execution_count": 8,
     "metadata": {},
     "output_type": "execute_result"
    }
   ],
   "source": [
    "#return all links in the webpage \n",
    "soup.find_all('a')"
   ]
  },
  {
   "cell_type": "code",
   "execution_count": 9,
   "metadata": {
    "collapsed": false
   },
   "outputs": [
    {
     "name": "stdout",
     "output_type": "stream",
     "text": [
      "/\n",
      "/stats/ironclad/\n",
      "/stats/ironclad/tierlist.php\n",
      "/stats/ironclad/deadliest-encounters.php\n",
      "/stats/ironclad/card-choices.php\n",
      "/stats/ironclad/card-winrate.php\n",
      "/stats/ironclad/card-upgrades.php\n",
      "/stats/ironclad/boss-relics.php\n",
      "/stats/ironclad/relics.php\n",
      "/stats/ironclad/neow-choices.php\n",
      "/stats/ironclad/shop-items.php\n",
      "/stats/silent/\n",
      "/stats/silent/tierlist.php\n",
      "/stats/silent/deadliest-encounters.php\n",
      "/stats/silent/card-choices.php\n",
      "/stats/silent/card-winrate.php\n",
      "/stats/silent/card-upgrades.php\n",
      "/stats/silent/boss-relics.php\n",
      "/stats/silent/relics.php\n",
      "/stats/silent/neow-choices.php\n",
      "/stats/silent/shop-items.php\n",
      "/stats/defect/\n",
      "/stats/defect/tierlist.php\n",
      "/stats/defect/deadliest-encounters.php\n",
      "/stats/defect/card-choices.php\n",
      "/stats/defect/card-winrate.php\n",
      "/stats/defect/card-upgrades.php\n",
      "/stats/defect/boss-relics.php\n",
      "/stats/defect/relics.php\n",
      "/stats/defect/neow-choices.php\n",
      "/stats/defect/shop-items.php\n",
      "/stats/\n",
      "/stats/cardlist.php\n",
      "/stats/event-frequency.php\n",
      "/stats/event-choices.php\n",
      "/stats/shop-items.php\n",
      "/stats/neow-choices.php\n",
      "/stats/\n",
      "/pages/profile.php\n",
      "/\n",
      "/\n",
      "https://spirelogs.com/pages/notes.php\n",
      "pages/register.php\n",
      "/pages/profile.php?user=Alleji\n",
      "pages/reset-password.php\n",
      "/pages/uploadhelp.php\n",
      "/pages/faq.php\n",
      "/pages/notes.php\n",
      "/viewrun.php?run=395390\n",
      "/viewrun.php?run=174795\n",
      "/viewrun.php?run=174794\n",
      "/viewrun.php?run=174792\n",
      "/viewrun.php?run=174793\n",
      "/viewrun.php?run=395389\n",
      "/viewrun.php?run=174791\n",
      "/viewrun.php?run=395388\n",
      "/viewrun.php?run=395386\n",
      "/viewrun.php?run=395385\n",
      "/pages/profile.php?user=dogw\n",
      "/pages/profile.php?user=kokoriki\n",
      "/pages/profile.php?user=forute_egusa\n",
      "/pages/profile.php?user=ihm1121\n",
      "/pages/profile.php?user=FadingEclipse\n",
      "/pages/profile.php?user=duder\n",
      "/pages/profile.php?user=Stiney\n",
      "/pages/profile.php?user=mackoz\n",
      "/pages/profile.php?user=Rainomi\n",
      "/pages/profile.php?user=Zynyste\n",
      "/pages/profile.php?user=monkusan\n",
      "/pages/profile.php?user=smb718\n",
      "/pages/profile.php?user=chubby\n",
      "/pages/profile.php?user=SteinFanXL9\n",
      "/pages/profile.php?user=aguni\n",
      "/stats/ironclad/\n",
      "/stats/ironclad/\n",
      "/stats/silent/\n",
      "/stats/silent/\n",
      "/stats/defect/\n",
      "/stats/defect/\n",
      "/stats/ironclad/\n",
      "/stats/ironclad/tierlist.php\n",
      "/stats/ironclad/deadliest-encounters.php\n",
      "/stats/ironclad/card-choices.php\n",
      "/stats/ironclad/card-winrate.php\n",
      "/stats/ironclad/card-upgrades.php\n",
      "/stats/ironclad/boss-relics.php\n",
      "/stats/ironclad/relics.php\n",
      "/stats/ironclad/neow-choices.php\n",
      "/stats/ironclad/shop-items.php\n",
      "/stats/silent/\n",
      "/stats/silent/tierlist.php\n",
      "/stats/silent/deadliest-encounters.php\n",
      "/stats/silent/card-choices.php\n",
      "/stats/silent/card-winrate.php\n",
      "/stats/silent/card-upgrades.php\n",
      "/stats/silent/boss-relics.php\n",
      "/stats/silent/relics.php\n",
      "/stats/silent/neow-choices.php\n",
      "/stats/silent/shop-items.php\n",
      "/stats/defect/\n",
      "/stats/defect/tierlist.php\n",
      "/stats/defect/deadliest-encounters.php\n",
      "/stats/defect/card-choices.php\n",
      "/stats/defect/card-winrate.php\n",
      "/stats/defect/card-upgrades.php\n",
      "/stats/defect/boss-relics.php\n",
      "/stats/defect/relics.php\n",
      "/stats/defect/neow-choices.php\n",
      "/stats/defect/shop-items.php\n",
      "https://store.steampowered.com/app/646570/Slay_the_Spire/\n",
      "https://www.reddit.com/user/Alleji/\n",
      "https://www.patreon.com/alleji\n"
     ]
    }
   ],
   "source": [
    "#use href to only print out hyperlinks\n",
    "all_links = soup.find_all(\"a\")\n",
    "for link in all_links:\n",
    "    print(link.get(\"href\"))"
   ]
  },
  {
   "cell_type": "code",
   "execution_count": 10,
   "metadata": {
    "collapsed": false
   },
   "outputs": [
    {
     "name": "stdout",
     "output_type": "stream",
     "text": [
      "[<tr><th>Username</th><th>Ironclad</th><th>Silent</th><th>Defect</th><th>Total</th></tr>, <tr><td><a href=\"/pages/profile.php?user=dogw\">dogw</a></td><td><span class=\"ironclad\">327</span></td><td><span class=\"silent\">37</span></td><td><span class=\"defect\">581</span></td><td>945</td></tr>, <tr><td><a href=\"/pages/profile.php?user=kokoriki\">kokoriki</a></td><td><span class=\"ironclad\">19</span></td><td><span class=\"silent\">534</span></td><td><span class=\"defect\">304</span></td><td>857</td></tr>, <tr><td><a href=\"/pages/profile.php?user=forute_egusa\">forute_egusa</a></td><td><span class=\"ironclad\">424</span></td><td><span class=\"silent\">293</span></td><td><span class=\"defect\">37</span></td><td>754</td></tr>, <tr><td><a href=\"/pages/profile.php?user=ihm1121\">ihm1121</a></td><td><span class=\"ironclad\">221</span></td><td><span class=\"silent\">227</span></td><td><span class=\"defect\">277</span></td><td>725</td></tr>, <tr><td><a href=\"/pages/profile.php?user=FadingEclipse\">FadingEclipse</a></td><td><span class=\"ironclad\">369</span></td><td><span class=\"silent\">175</span></td><td><span class=\"defect\">168</span></td><td>712</td></tr>, <tr><td><a href=\"/pages/profile.php?user=duder\">duder</a></td><td><span class=\"ironclad\">253</span></td><td><span class=\"silent\">253</span></td><td><span class=\"defect\">166</span></td><td>672</td></tr>, <tr><td><a href=\"/pages/profile.php?user=Stiney\">Stiney</a></td><td><span class=\"ironclad\">252</span></td><td><span class=\"silent\">187</span></td><td><span class=\"defect\">229</span></td><td>668</td></tr>, <tr><td><a href=\"/pages/profile.php?user=mackoz\">mackoz</a></td><td><span class=\"ironclad\">196</span></td><td><span class=\"silent\">262</span></td><td><span class=\"defect\">202</span></td><td>660</td></tr>, <tr><td><a href=\"/pages/profile.php?user=Rainomi\">Rainomi</a></td><td><span class=\"ironclad\">161</span></td><td><span class=\"silent\">179</span></td><td><span class=\"defect\">320</span></td><td>660</td></tr>]\n"
     ]
    }
   ],
   "source": [
    "# Print the first 10 rows for sanity check\n",
    "rows = soup.find_all('tr')\n",
    "print(rows[:10])"
   ]
  },
  {
   "cell_type": "code",
   "execution_count": 18,
   "metadata": {
    "collapsed": false
   },
   "outputs": [
    {
     "name": "stdout",
     "output_type": "stream",
     "text": [
      "[[], [<td><a href=\"/pages/profile.php?user=dogw\">dogw</a></td>, <td><span class=\"ironclad\">327</span></td>, <td><span class=\"silent\">37</span></td>, <td><span class=\"defect\">581</span></td>, <td>945</td>], [<td><a href=\"/pages/profile.php?user=kokoriki\">kokoriki</a></td>, <td><span class=\"ironclad\">19</span></td>, <td><span class=\"silent\">534</span></td>, <td><span class=\"defect\">304</span></td>, <td>857</td>], [<td><a href=\"/pages/profile.php?user=forute_egusa\">forute_egusa</a></td>, <td><span class=\"ironclad\">424</span></td>, <td><span class=\"silent\">293</span></td>, <td><span class=\"defect\">37</span></td>, <td>754</td>], [<td><a href=\"/pages/profile.php?user=ihm1121\">ihm1121</a></td>, <td><span class=\"ironclad\">221</span></td>, <td><span class=\"silent\">227</span></td>, <td><span class=\"defect\">277</span></td>, <td>725</td>], [<td><a href=\"/pages/profile.php?user=FadingEclipse\">FadingEclipse</a></td>, <td><span class=\"ironclad\">369</span></td>, <td><span class=\"silent\">175</span></td>, <td><span class=\"defect\">168</span></td>, <td>712</td>], [<td><a href=\"/pages/profile.php?user=duder\">duder</a></td>, <td><span class=\"ironclad\">253</span></td>, <td><span class=\"silent\">253</span></td>, <td><span class=\"defect\">166</span></td>, <td>672</td>], [<td><a href=\"/pages/profile.php?user=Stiney\">Stiney</a></td>, <td><span class=\"ironclad\">252</span></td>, <td><span class=\"silent\">187</span></td>, <td><span class=\"defect\">229</span></td>, <td>668</td>], [<td><a href=\"/pages/profile.php?user=mackoz\">mackoz</a></td>, <td><span class=\"ironclad\">196</span></td>, <td><span class=\"silent\">262</span></td>, <td><span class=\"defect\">202</span></td>, <td>660</td>], [<td><a href=\"/pages/profile.php?user=Rainomi\">Rainomi</a></td>, <td><span class=\"ironclad\">161</span></td>, <td><span class=\"silent\">179</span></td>, <td><span class=\"defect\">320</span></td>, <td>660</td>], [<td><a href=\"/pages/profile.php?user=Zynyste\">Zynyste</a></td>, <td><span class=\"ironclad\">2</span></td>, <td><span class=\"silent\">619</span></td>, <td><span class=\"defect\">28</span></td>, <td>649</td>], [<td><a href=\"/pages/profile.php?user=monkusan\">monkusan</a></td>, <td><span class=\"ironclad\">49</span></td>, <td><span class=\"silent\">41</span></td>, <td><span class=\"defect\">557</span></td>, <td>647</td>], [<td><a href=\"/pages/profile.php?user=smb718\">smb718</a></td>, <td><span class=\"ironclad\">287</span></td>, <td><span class=\"silent\">207</span></td>, <td><span class=\"defect\">147</span></td>, <td>641</td>], [<td><a href=\"/pages/profile.php?user=chubby\">chubby</a></td>, <td><span class=\"ironclad\">155</span></td>, <td><span class=\"silent\">219</span></td>, <td><span class=\"defect\">264</span></td>, <td>638</td>], [<td><a href=\"/pages/profile.php?user=SteinFanXL9\">SteinFanXL9</a></td>, <td><span class=\"ironclad\">598</span></td>, <td><span class=\"silent\">0</span></td>, <td><span class=\"defect\">36</span></td>, <td>634</td>], [<td><a href=\"/pages/profile.php?user=aguni\">aguni</a></td>, <td><span class=\"ironclad\">0</span></td>, <td><span class=\"silent\">0</span></td>, <td><span class=\"defect\">630</span></td>, <td>630</td>], [<td>Total Runs Recorded:</td>, <td>24823</td>, <td>37915</td>, <td>9267</td>, <td>1813</td>], [], [<td>Total Victories</td>, <td>4701</td>, <td>6793</td>, <td>1898</td>, <td>265</td>], [<td>Winrate</td>, <td>18.73%</td>, <td>17.75%</td>, <td>20.28%</td>, <td>14.62%</td>], [<td>Average Score</td>, <td>772</td>, <td>1025</td>, <td>1369</td>, <td>2001</td>], [<td>Cards in Deck</td>, <td>26.8</td>, <td>28.6</td>, <td>29.6</td>, <td>30.8</td>], [<td>Cards Removed at Merchant</td>, <td>2.07</td>, <td>1.98</td>, <td>1.81</td>, <td>1.92</td>], [<td>Relics</td>, <td>14</td>, <td>16.2</td>, <td>15.2</td>, <td>16.1</td>], [<td>Elites Defeated</td>, <td>3.4</td>, <td>5.1</td>, <td>4.9</td>, <td>5.3</td>], [<td>Regular Monsters Defeated</td>, <td>16.9</td>, <td>15.5</td>, <td>15.5</td>, <td>14.8</td>], [<td>Campfires Visited</td>, <td>8.8</td>, <td>8.7</td>, <td>9.3</td>, <td>9.3</td>], [<td>Rests at Campfires</td>, <td>2.1</td>, <td>2.6</td>, <td>2.6</td>, <td>2.4</td>], [<td>Total Runs Recorded:</td>, <td>15761</td>, <td>33970</td>, <td>11887</td>, <td>1599</td>], [], [<td>Total Victories</td>, <td>3255</td>, <td>7058</td>, <td>2830</td>, <td>226</td>], [<td>Winrate</td>, <td>20.44%</td>, <td>20.58%</td>, <td>23.63%</td>, <td>14.13%</td>], [<td>Average Score</td>, <td>758</td>, <td>1019</td>, <td>1359</td>, <td>1980</td>], [<td>Cards in Deck</td>, <td>30.5</td>, <td>31.4</td>, <td>32</td>, <td>33.8</td>], [<td>Cards Removed at Merchant</td>, <td>1.89</td>, <td>1.82</td>, <td>1.71</td>, <td>1.71</td>], [<td>Relics</td>, <td>14.2</td>, <td>16.1</td>, <td>15</td>, <td>15.3</td>], [<td>Elites Defeated</td>, <td>3.5</td>, <td>5</td>, <td>4.9</td>, <td>4.7</td>], [<td>Regular Monsters Defeated</td>, <td>16.8</td>, <td>15.3</td>, <td>15.2</td>, <td>14.8</td>], [<td>Campfires Visited</td>, <td>8.9</td>, <td>8.8</td>, <td>9.4</td>, <td>9.6</td>], [<td>Rests at Campfires</td>, <td>2.7</td>, <td>3.3</td>, <td>3.3</td>, <td>3.4</td>], [<td>Total Runs Recorded:</td>, <td>19063</td>, <td>44444</td>, <td>10181</td>, <td>1688</td>], [], [<td>Total Victories</td>, <td>3813</td>, <td>8721</td>, <td>2455</td>, <td>238</td>], [<td>Winrate</td>, <td>19.77%</td>, <td>19.41%</td>, <td>23.81%</td>, <td>14.04%</td>], [<td>Average Score</td>, <td>751</td>, <td>1000</td>, <td>1351</td>, <td>1973</td>], [<td>Cards in Deck</td>, <td>29.7</td>, <td>30.2</td>, <td>32</td>, <td>32.2</td>], [<td>Cards Removed at Merchant</td>, <td>1.82</td>, <td>1.85</td>, <td>1.61</td>, <td>1.71</td>], [<td>Relics</td>, <td>13.8</td>, <td>15.5</td>, <td>14.7</td>, <td>15.5</td>], [<td>Elites Defeated</td>, <td>3.2</td>, <td>4.6</td>, <td>4.5</td>, <td>4.6</td>], [<td>Regular Monsters Defeated</td>, <td>17.1</td>, <td>15.6</td>, <td>15.4</td>, <td>15.4</td>], [<td>Campfires Visited</td>, <td>9.1</td>, <td>9.1</td>, <td>9.6</td>, <td>9.5</td>], [<td>Rests at Campfires</td>, <td>2.7</td>, <td>3.2</td>, <td>3.2</td>, <td>3.2</td>]]\n"
     ]
    },
    {
     "data": {
      "text/plain": [
       "list"
      ]
     },
     "execution_count": 18,
     "metadata": {},
     "output_type": "execute_result"
    }
   ],
   "source": [
    "row_td = []\n",
    "for row in rows:\n",
    "    row_td.append(row.find_all('td'))\n",
    "print(row_td)\n",
    "type(row_td)"
   ]
  },
  {
   "cell_type": "code",
   "execution_count": 19,
   "metadata": {
    "collapsed": false
   },
   "outputs": [
    {
     "name": "stdout",
     "output_type": "stream",
     "text": [
      "[[], [dogw, 327, 37, 581, 945], [kokoriki, 19, 534, 304, 857], [forute_egusa, 424, 293, 37, 754], [ihm1121, 221, 227, 277, 725], [FadingEclipse, 369, 175, 168, 712], [duder, 253, 253, 166, 672], [Stiney, 252, 187, 229, 668], [mackoz, 196, 262, 202, 660], [Rainomi, 161, 179, 320, 660], [Zynyste, 2, 619, 28, 649], [monkusan, 49, 41, 557, 647], [smb718, 287, 207, 147, 641], [chubby, 155, 219, 264, 638], [SteinFanXL9, 598, 0, 36, 634], [aguni, 0, 0, 630, 630], [Total Runs Recorded:, 24823, 37915, 9267, 1813], [], [Total Victories, 4701, 6793, 1898, 265], [Winrate, 18.73%, 17.75%, 20.28%, 14.62%], [Average Score, 772, 1025, 1369, 2001], [Cards in Deck, 26.8, 28.6, 29.6, 30.8], [Cards Removed at Merchant, 2.07, 1.98, 1.81, 1.92], [Relics, 14, 16.2, 15.2, 16.1], [Elites Defeated, 3.4, 5.1, 4.9, 5.3], [Regular Monsters Defeated, 16.9, 15.5, 15.5, 14.8], [Campfires Visited, 8.8, 8.7, 9.3, 9.3], [Rests at Campfires, 2.1, 2.6, 2.6, 2.4], [Total Runs Recorded:, 15761, 33970, 11887, 1599], [], [Total Victories, 3255, 7058, 2830, 226], [Winrate, 20.44%, 20.58%, 23.63%, 14.13%], [Average Score, 758, 1019, 1359, 1980], [Cards in Deck, 30.5, 31.4, 32, 33.8], [Cards Removed at Merchant, 1.89, 1.82, 1.71, 1.71], [Relics, 14.2, 16.1, 15, 15.3], [Elites Defeated, 3.5, 5, 4.9, 4.7], [Regular Monsters Defeated, 16.8, 15.3, 15.2, 14.8], [Campfires Visited, 8.9, 8.8, 9.4, 9.6], [Rests at Campfires, 2.7, 3.3, 3.3, 3.4], [Total Runs Recorded:, 19063, 44444, 10181, 1688], [], [Total Victories, 3813, 8721, 2455, 238], [Winrate, 19.77%, 19.41%, 23.81%, 14.04%], [Average Score, 751, 1000, 1351, 1973], [Cards in Deck, 29.7, 30.2, 32, 32.2], [Cards Removed at Merchant, 1.82, 1.85, 1.61, 1.71], [Relics, 13.8, 15.5, 14.7, 15.5], [Elites Defeated, 3.2, 4.6, 4.5, 4.6], [Regular Monsters Defeated, 17.1, 15.6, 15.4, 15.4], [Campfires Visited, 9.1, 9.1, 9.6, 9.5], [Rests at Campfires, 2.7, 3.2, 3.2, 3.2]]\n"
     ]
    }
   ],
   "source": [
    "#extract the text without html tags\n",
    "str_cells = str(row_td)\n",
    "cleantext = BeautifulSoup(str_cells, \"lxml\").get_text()\n",
    "print(cleantext)"
   ]
  },
  {
   "cell_type": "code",
   "execution_count": 20,
   "metadata": {
    "collapsed": false
   },
   "outputs": [
    {
     "ename": "PandasError",
     "evalue": "DataFrame constructor not properly called!",
     "output_type": "error",
     "traceback": [
      "\u001b[0;31m---------------------------------------------------------------------------\u001b[0m",
      "\u001b[0;31mPandasError\u001b[0m                               Traceback (most recent call last)",
      "\u001b[0;32m<ipython-input-20-ffe9a24ac9ab>\u001b[0m in \u001b[0;36m<module>\u001b[0;34m()\u001b[0m\n\u001b[0;32m----> 1\u001b[0;31m \u001b[0mdf\u001b[0m \u001b[1;33m=\u001b[0m \u001b[0mpd\u001b[0m\u001b[1;33m.\u001b[0m\u001b[0mDataFrame\u001b[0m\u001b[1;33m(\u001b[0m\u001b[0mcleantext\u001b[0m\u001b[1;33m)\u001b[0m\u001b[1;33m\u001b[0m\u001b[0m\n\u001b[0m\u001b[1;32m      2\u001b[0m \u001b[0mdf\u001b[0m\u001b[1;33m.\u001b[0m\u001b[0mhead\u001b[0m\u001b[1;33m(\u001b[0m\u001b[1;36m10\u001b[0m\u001b[1;33m)\u001b[0m\u001b[1;33m\u001b[0m\u001b[0m\n",
      "\u001b[0;32mC:\\Users\\Riley\\Anaconda3\\envs\\DAND\\lib\\site-packages\\pandas\\core\\frame.pyc\u001b[0m in \u001b[0;36m__init__\u001b[0;34m(self, data, index, columns, dtype, copy)\u001b[0m\n\u001b[1;32m    343\u001b[0m                                          copy=False)\n\u001b[1;32m    344\u001b[0m             \u001b[1;32melse\u001b[0m\u001b[1;33m:\u001b[0m\u001b[1;33m\u001b[0m\u001b[0m\n\u001b[0;32m--> 345\u001b[0;31m                 \u001b[1;32mraise\u001b[0m \u001b[0mPandasError\u001b[0m\u001b[1;33m(\u001b[0m\u001b[1;34m'DataFrame constructor not properly called!'\u001b[0m\u001b[1;33m)\u001b[0m\u001b[1;33m\u001b[0m\u001b[0m\n\u001b[0m\u001b[1;32m    346\u001b[0m \u001b[1;33m\u001b[0m\u001b[0m\n\u001b[1;32m    347\u001b[0m         \u001b[0mNDFrame\u001b[0m\u001b[1;33m.\u001b[0m\u001b[0m__init__\u001b[0m\u001b[1;33m(\u001b[0m\u001b[0mself\u001b[0m\u001b[1;33m,\u001b[0m \u001b[0mmgr\u001b[0m\u001b[1;33m,\u001b[0m \u001b[0mfastpath\u001b[0m\u001b[1;33m=\u001b[0m\u001b[0mTrue\u001b[0m\u001b[1;33m)\u001b[0m\u001b[1;33m\u001b[0m\u001b[0m\n",
      "\u001b[0;31mPandasError\u001b[0m: DataFrame constructor not properly called!"
     ]
    }
   ],
   "source": [
    "df = pd.DataFrame(cleantext)\n",
    "df.head(10)"
   ]
  },
  {
   "cell_type": "code",
   "execution_count": 15,
   "metadata": {
    "collapsed": false
   },
   "outputs": [
    {
     "data": {
      "text/plain": [
       "unicode"
      ]
     },
     "execution_count": 15,
     "metadata": {},
     "output_type": "execute_result"
    }
   ],
   "source": [
    "type(cleantext)"
   ]
  },
  {
   "cell_type": "code",
   "execution_count": null,
   "metadata": {
    "collapsed": true
   },
   "outputs": [],
   "source": []
  }
 ],
 "metadata": {
  "anaconda-cloud": {},
  "kernelspec": {
   "display_name": "Python [conda env:DAND]",
   "language": "python",
   "name": "conda-env-DAND-py"
  },
  "language_info": {
   "codemirror_mode": {
    "name": "ipython",
    "version": 2
   },
   "file_extension": ".py",
   "mimetype": "text/x-python",
   "name": "python",
   "nbconvert_exporter": "python",
   "pygments_lexer": "ipython2",
   "version": "2.7.12"
  }
 },
 "nbformat": 4,
 "nbformat_minor": 2
}
